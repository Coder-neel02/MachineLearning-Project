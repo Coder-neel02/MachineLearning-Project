{
 "cells": [
  {
   "cell_type": "code",
   "execution_count": 1,
   "id": "c0d4651f-a14e-430a-a65b-37d42548abc2",
   "metadata": {},
   "outputs": [],
   "source": [
    "import pandas as pd\n",
    "import numpy as np"
   ]
  },
  {
   "cell_type": "code",
   "execution_count": 2,
   "id": "89bf0f79-d622-4383-aa9e-125b94548555",
   "metadata": {},
   "outputs": [],
   "source": [
    "data = pd.read_csv(\"medicine.csv\")"
   ]
  },
  {
   "cell_type": "code",
   "execution_count": null,
   "id": "7445d5a9-188b-44a9-8f4a-f8eb42cc04b0",
   "metadata": {},
   "outputs": [],
   "source": [
    "data.sample(10)"
   ]
  },
  {
   "cell_type": "code",
   "execution_count": null,
   "id": "8de61cbc-3ccf-4cef-a339-d4cf0c875696",
   "metadata": {},
   "outputs": [],
   "source": [
    "data.shape"
   ]
  },
  {
   "cell_type": "code",
   "execution_count": null,
   "id": "f1b037bb-bac4-439b-a37c-a91c43879609",
   "metadata": {},
   "outputs": [],
   "source": [
    "data.isnull().sum()"
   ]
  },
  {
   "cell_type": "code",
   "execution_count": 6,
   "id": "70bb46c1-6078-40ef-a05f-e0e034872094",
   "metadata": {},
   "outputs": [],
   "source": [
    "data.dropna(inplace=True)"
   ]
  },
  {
   "cell_type": "code",
   "execution_count": null,
   "id": "9d4c1cbe-9eff-482f-bee0-1b1b6ad75a4e",
   "metadata": {},
   "outputs": [],
   "source": [
    "data.duplicated().sum()"
   ]
  },
  {
   "cell_type": "code",
   "execution_count": null,
   "id": "797ab02c-e380-4d98-a380-b02fe8e04c97",
   "metadata": {},
   "outputs": [],
   "source": [
    "data.describe()"
   ]
  },
  {
   "cell_type": "code",
   "execution_count": null,
   "id": "01b89a0a-2cec-4b8e-a928-1c6b1de56cd2",
   "metadata": {},
   "outputs": [],
   "source": [
    "data.info()"
   ]
  },
  {
   "cell_type": "code",
   "execution_count": null,
   "id": "e1391e7d-85b4-4c64-9529-886f0dc7ebe0",
   "metadata": {},
   "outputs": [],
   "source": [
    "data['Description']"
   ]
  },
  {
   "cell_type": "code",
   "execution_count": 11,
   "id": "f40ab751-a369-485b-976a-064a38ea5dc6",
   "metadata": {},
   "outputs": [],
   "source": [
    "data['Description'] = data['Description'].apply(lambda x : x.split())\n",
    "data['Reason'] = data['Reason'].apply(lambda x : x.split())"
   ]
  },
  {
   "cell_type": "code",
   "execution_count": null,
   "id": "f1a2eaf5-4550-4471-b832-99ba61582bae",
   "metadata": {},
   "outputs": [],
   "source": [
    "data.tail()"
   ]
  },
  {
   "cell_type": "code",
   "execution_count": 13,
   "id": "ba60d858-b3bf-443a-a3d6-7c016f9059fc",
   "metadata": {},
   "outputs": [],
   "source": [
    "data['Description'] = data['Description'].apply(lambda x :[i.replace(\" \", \"\") for i in x] )"
   ]
  },
  {
   "cell_type": "code",
   "execution_count": 14,
   "id": "b48e0a02-d339-4366-bd10-30c0340c3b93",
   "metadata": {},
   "outputs": [],
   "source": [
    "data['tags'] = data['Description'] + data['Reason']"
   ]
  },
  {
   "cell_type": "code",
   "execution_count": null,
   "id": "9525387f-605a-4741-ab16-f45ebc7790f2",
   "metadata": {},
   "outputs": [],
   "source": [
    "data.head()"
   ]
  },
  {
   "cell_type": "code",
   "execution_count": 16,
   "id": "2e0a6415-986b-4cc7-b36c-d905194a9214",
   "metadata": {},
   "outputs": [],
   "source": [
    "new_data = data[['index', 'Drug_Name', 'tags']]"
   ]
  },
  {
   "cell_type": "code",
   "execution_count": null,
   "id": "9b8ee536-3d8d-4336-b397-12088f1cd182",
   "metadata": {},
   "outputs": [],
   "source": [
    "new_data.head()"
   ]
  },
  {
   "cell_type": "code",
   "execution_count": null,
   "id": "1688737b-38c6-45e5-81e9-222f18c64aef",
   "metadata": {},
   "outputs": [],
   "source": [
    "new_data['tags'] = new_data['tags'].apply(lambda x : \" \".join(x))"
   ]
  },
  {
   "cell_type": "code",
   "execution_count": null,
   "id": "fc7c70e2-514c-4be9-9a47-7d0d909634ee",
   "metadata": {},
   "outputs": [],
   "source": [
    "new_data['tags'] = new_data['tags'].apply(lambda x : x.lower())"
   ]
  },
  {
   "cell_type": "code",
   "execution_count": null,
   "id": "940a81ea-dbd0-4e95-92de-e2728f2dd3d2",
   "metadata": {},
   "outputs": [],
   "source": [
    "new_data.head()"
   ]
  },
  {
   "cell_type": "code",
   "execution_count": 21,
   "id": "b1f0071b-180d-4d9f-a083-e1b8cb1489d6",
   "metadata": {},
   "outputs": [],
   "source": [
    "import nltk\n",
    "from nltk.stem.porter import PorterStemmer\n",
    "ps = PorterStemmer()"
   ]
  },
  {
   "cell_type": "code",
   "execution_count": 22,
   "id": "bfbbeb0e-3701-4e8d-92bc-e5f7a84fb9b6",
   "metadata": {},
   "outputs": [],
   "source": [
    "from sklearn.feature_extraction.text import CountVectorizer\n",
    "cv = CountVectorizer(stop_words = \"english\", max_features = 5000)"
   ]
  },
  {
   "cell_type": "code",
   "execution_count": 23,
   "id": "8673e1f2-b43d-47f9-8579-1c39824f9360",
   "metadata": {},
   "outputs": [],
   "source": [
    "def stem(text):\n",
    "    y = []\n",
    "    for i in text.split():\n",
    "        y.append(ps.stem(i))\n",
    "    return \" \".join(y)"
   ]
  },
  {
   "cell_type": "code",
   "execution_count": null,
   "id": "0afeee97-3ff0-487c-a39f-7692ae560a52",
   "metadata": {},
   "outputs": [],
   "source": [
    "stem(\"You are so so beautiful\")"
   ]
  },
  {
   "cell_type": "code",
   "execution_count": null,
   "id": "3e76e330-7b0d-4c31-aff2-ca352b0e37f0",
   "metadata": {},
   "outputs": [],
   "source": [
    "new_data['tags'] = new_data['tags'].apply(stem)"
   ]
  },
  {
   "cell_type": "code",
   "execution_count": null,
   "id": "b92e6c2e-31fd-481e-b7cb-ebca1cc7f3bf",
   "metadata": {},
   "outputs": [],
   "source": [
    "new_data.head()"
   ]
  },
  {
   "cell_type": "code",
   "execution_count": 27,
   "id": "1e36231b-ad89-4c16-b6e9-f772d12fccde",
   "metadata": {},
   "outputs": [],
   "source": [
    "vectors = cv.fit_transform(new_data['tags']).toarray()"
   ]
  },
  {
   "cell_type": "code",
   "execution_count": null,
   "id": "a3a55217-92bd-4d1f-bd1d-c813c0808edc",
   "metadata": {},
   "outputs": [],
   "source": [
    "vectors.shape"
   ]
  },
  {
   "cell_type": "code",
   "execution_count": null,
   "id": "77292d88-e56d-4c38-9879-25ad1bbde9c9",
   "metadata": {},
   "outputs": [],
   "source": [
    "cv.get_feature_names_out()"
   ]
  },
  {
   "cell_type": "code",
   "execution_count": 30,
   "id": "539de207-4b79-4d76-994f-b03f3ddd8d59",
   "metadata": {},
   "outputs": [],
   "source": [
    "from sklearn.metrics.pairwise import cosine_similarity\n"
   ]
  },
  {
   "cell_type": "code",
   "execution_count": 31,
   "id": "a025adc8-7e1c-4747-a561-5fbeb611a366",
   "metadata": {},
   "outputs": [],
   "source": [
    "similarity = cosine_similarity(vectors)"
   ]
  },
  {
   "cell_type": "code",
   "execution_count": null,
   "id": "c196c911-30f5-45fd-adbf-87e3d5f22989",
   "metadata": {},
   "outputs": [],
   "source": [
    "similarity[1]"
   ]
  },
  {
   "cell_type": "code",
   "execution_count": 33,
   "id": "8aab2895-d828-40ec-a085-c8dbb84df7b9",
   "metadata": {},
   "outputs": [],
   "source": [
    "def recommendation(medicine):\n",
    "    medicine_index = new_data[new_data['Drug_Name'] == medicine].index[0]\n",
    "    distance = similarity[medicine_index]\n",
    "    medicine_list = sorted(list(enumerate(distance)), reverse=True, key = lambda x : x[1])[1:6]\n",
    "    for i in medicine_list:\n",
    "        print(new_data.iloc[i[0]].Drug_Name)"
   ]
  },
  {
   "cell_type": "code",
   "execution_count": null,
   "id": "5c02fa0d-afad-42ce-baee-637c079810d2",
   "metadata": {},
   "outputs": [],
   "source": [
    "recommendation(\"Ocudor Eye Drops 5ml\")"
   ]
  },
  {
   "cell_type": "code",
   "execution_count": 35,
   "id": "34aea07e-c730-414b-9b7a-d1e852b86a75",
   "metadata": {},
   "outputs": [],
   "source": [
    "import pickle\n",
    "pickle.dump(new_data.to_dict(), open(\"medicine_dict.pkl\", \"wb\"))\n",
    "pickle.dump(similarity, open(\"similarity.pkl\", \"wb\"))"
   ]
  },
  {
   "cell_type": "code",
   "execution_count": null,
   "id": "05ba271f-6d49-48ae-9333-d405df7313aa",
   "metadata": {},
   "outputs": [],
   "source": []
  }
 ],
 "metadata": {
  "kernelspec": {
   "display_name": "Python 3 (ipykernel)",
   "language": "python",
   "name": "python3"
  },
  "language_info": {
   "codemirror_mode": {
    "name": "ipython",
    "version": 3
   },
   "file_extension": ".py",
   "mimetype": "text/x-python",
   "name": "python",
   "nbconvert_exporter": "python",
   "pygments_lexer": "ipython3",
   "version": "3.12.4"
  }
 },
 "nbformat": 4,
 "nbformat_minor": 5
}
